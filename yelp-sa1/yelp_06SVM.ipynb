{
 "cells": [
  {
   "cell_type": "code",
   "execution_count": 1,
   "metadata": {
    "collapsed": true
   },
   "outputs": [],
   "source": [
    "#!/usr/bin/env python\n",
    "# -*- coding: utf-8 -*-"
   ]
  },
  {
   "cell_type": "code",
   "execution_count": 2,
   "metadata": {
    "collapsed": false
   },
   "outputs": [],
   "source": [
    "import os\n",
    "import numpy as np\n",
    "import pandas as pd\n",
    "from yelp_utils import *\n",
    "import yelp_utils "
   ]
  },
  {
   "cell_type": "code",
   "execution_count": 3,
   "metadata": {
    "collapsed": true
   },
   "outputs": [],
   "source": [
    "from sklearn.cross_validation import KFold\n",
    "from sklearn.svm import SVC\n",
    "from sklearn import metrics\n",
    "from scipy.sparse import csr_matrix"
   ]
  },
  {
   "cell_type": "code",
   "execution_count": 4,
   "metadata": {
    "collapsed": true
   },
   "outputs": [],
   "source": [
    "# SEED_VAL = 200;\n",
    "# WORK_DIR = os.getcwd();\n",
    "# data_subset = \"_10Percent\"\n",
    "# YELP_DATA_CSV_DIR = os.path.join(WORK_DIR, \"data\", \"csv\")\n",
    "# YELP_DATA_SPARSE_MATRIX_DIR = os.path.join(WORK_DIR, \"data\", \"sparse_matrix\")\n",
    "# YELP_DATA_WORD_2_VEC_MODEL_DIR = os.path.join(WORK_DIR, \"data\", \"word2vec_model\")"
   ]
  },
  {
   "cell_type": "code",
   "execution_count": 5,
   "metadata": {
    "collapsed": false
   },
   "outputs": [],
   "source": [
    "# Read data\n",
    "read_filename = os.path.join(yelp_utils.YELP_DATA_CSV_DIR, 'business_review_user' + yelp_utils.data_subset + \".csv\")\n",
    "df_data = pd.read_csv(read_filename, engine='c', encoding='utf-8')"
   ]
  },
  {
   "cell_type": "code",
   "execution_count": 6,
   "metadata": {
    "collapsed": false
   },
   "outputs": [],
   "source": [
    "def mySVC(feature_matrix_train, y_train, feature_matrix_test, y_test):\n",
    "    '''\n",
    "    Function to apply SVC from sklearn to build model on train data and get accuracy on test and train data\n",
    "    Input:\n",
    "        feature_matrix_train: numpy.ndarray\n",
    "        y_train: numpy.ndarray\n",
    "        feature_matrix_test: numpy.ndarray\n",
    "        y_test: numpy.ndarray\n",
    "    Output:\n",
    "        list: [train_accuracy, test_accuracy]\n",
    "    '''\n",
    "    clf = SVC()\n",
    "    clf.fit(feature_matrix_train, y_train)  #.set_params(kernel='linear')\n",
    "    \n",
    "    clf2_predictions = clf.predict(feature_matrix_train)\n",
    "    train_accuracy = str(metrics.accuracy_score(y_train, clf2_predictions))\n",
    "\n",
    "    clf_predictions = clf.predict(feature_matrix_test)\n",
    "    test_accuracy = str(metrics.accuracy_score(y_test, clf_predictions))\n",
    "    \n",
    "    return [train_accuracy, test_accuracy]\n",
    "\n",
    "def myKFoldSVM(X, y, n_fold):\n",
    "    '''\n",
    "    Function to divide data into k folds and apply SVC from sklearn to \n",
    "    build model on train data and prints accuracy on test and train data. \n",
    "    Input:\n",
    "        X: numpy.ndarray\n",
    "        y: numpy.ndarray\n",
    "        n_fold: numpy.ndarray\n",
    "    Output:\n",
    "        Prints train and test accuracy for each of the kfold and the average accuracy \n",
    "    '''\n",
    "    res_svc_train = []\n",
    "    res_svc_test = []\n",
    "    res_svc_train_avg = 0.0\n",
    "    res_svc_test_avg = 0.0\n",
    "    kf = KFold(X.shape[0], n_folds=n_fold)\n",
    "    for train_index, test_index in kf:\n",
    "        X_train, X_test = X[train_index], X[test_index]\n",
    "        y_train, y_test = y[train_index], y[test_index]\n",
    "        \n",
    "        res_svc = mySVC(X_train, y_train, X_test, y_test)\n",
    "        \n",
    "        res_svc_train_avg = res_svc_train_avg + float(res_svc[0])\n",
    "        res_svc_test_avg = res_svc_test_avg + float(res_svc[1])\n",
    "        \n",
    "        res_svc_train.append(res_svc[0])\n",
    "        res_svc_test.append(res_svc[1])\n",
    "        \n",
    "    res_svc_train_avg = res_svc_train_avg / n_fold\n",
    "    res_svc_test_avg = res_svc_test_avg / n_fold\n",
    "    \n",
    "    print \"SVC training accuracy: \" + str(res_svc_train)\n",
    "    print \"SVC training average accuracy: \" + str(res_svc_train_avg)\n",
    "    print \"SVC test accuracy:\" + str(res_svc_test)\n",
    "    print \"SVC test average accuracy: \" + str(res_svc_test_avg)"
   ]
  },
  {
   "cell_type": "markdown",
   "metadata": {},
   "source": [
    "## Bag of words"
   ]
  },
  {
   "cell_type": "code",
   "execution_count": 7,
   "metadata": {
    "collapsed": false
   },
   "outputs": [],
   "source": [
    "spare_matrix_file = os.path.join(yelp_utils.YELP_DATA_SPARSE_MATRIX_DIR, \"bagWords\" + yelp_utils.data_subset)\n",
    "feature_matrix_bag_of_words = load_sparse_csr(spare_matrix_file + \".npz\")\n",
    "y = np.array(df_data.review_stars.copy(), dtype='int32')"
   ]
  },
  {
   "cell_type": "code",
   "execution_count": 8,
   "metadata": {
    "collapsed": false
   },
   "outputs": [
    {
     "name": "stdout",
     "output_type": "stream",
     "text": [
      "SVC training accuracy: ['0.45267958951', '0.454389965792', '0.456100342075', '0.45811965812', '0.454700854701']\n",
      "SVC training average accuracy: 0.45519808204\n",
      "SVC test accuracy:['0.441913439636', '0.414578587699', '0.396355353075', '0.420091324201', '0.442922374429']\n",
      "SVC test average accuracy: 0.423172215808\n",
      "Wall time: 37.5 s\n"
     ]
    }
   ],
   "source": [
    "%time myKFoldSVM(feature_matrix_bag_of_words.toarray(), y, 5)"
   ]
  },
  {
   "cell_type": "markdown",
   "metadata": {},
   "source": [
    "## Bag of words + Hand crafting features"
   ]
  },
  {
   "cell_type": "code",
   "execution_count": 9,
   "metadata": {
    "collapsed": false
   },
   "outputs": [],
   "source": [
    "# spare_matrix_file = os.path.join(YELP_DATA_SPARSE_MATRIX_DIR, \"bagWords_feat_add\" + data_subset)\n",
    "# feature_matrix_bag_of_words_and_hand_craft_features = load_sparse_csr(spare_matrix_file + \".npz\")"
   ]
  },
  {
   "cell_type": "code",
   "execution_count": 10,
   "metadata": {
    "collapsed": false
   },
   "outputs": [],
   "source": [
    "# %time myKFoldSVM(feature_matrix_bag_of_words_and_hand_craft_features, y, 5)"
   ]
  },
  {
   "cell_type": "markdown",
   "metadata": {},
   "source": [
    "## Word embedding"
   ]
  },
  {
   "cell_type": "code",
   "execution_count": 11,
   "metadata": {
    "collapsed": false
   },
   "outputs": [],
   "source": [
    "word2vec_feature_matrix_file = os.path.join(YELP_DATA_WORD_2_VEC_MODEL_DIR, \"word2vec_feature_matrix\" + data_subset+ \".csv\")\n",
    "feature_matrix_word2vec = np.genfromtxt(word2vec_feature_matrix_file, delimiter=',')     "
   ]
  },
  {
   "cell_type": "code",
   "execution_count": 12,
   "metadata": {
    "collapsed": false
   },
   "outputs": [
    {
     "name": "stdout",
     "output_type": "stream",
     "text": [
      "SVC training accuracy: ['0.398517673888', '0.405359179019', '0.40763968073', '0.403418803419', '0.40056980057']\n",
      "SVC training average accuracy: 0.403101027525\n",
      "SVC test accuracy:['0.421412300683', '0.394077448747', '0.384965831435', '0.401826484018', '0.413242009132']\n",
      "SVC test average accuracy: 0.403104814803\n",
      "Wall time: 10.5 s\n"
     ]
    }
   ],
   "source": [
    "%time myKFoldSVM(feature_matrix_word2vec, y, 5)"
   ]
  },
  {
   "cell_type": "markdown",
   "metadata": {
    "collapsed": true
   },
   "source": [
    "# Word embedding + hand craft features"
   ]
  },
  {
   "cell_type": "code",
   "execution_count": 13,
   "metadata": {
    "collapsed": true
   },
   "outputs": [],
   "source": [
    "# word2vec_feature_matrix_file = os.path.join(YELP_DATA_WORD_2_VEC_MODEL_DIR, \"word2vec_add_feature_matrix\" + data_subset+ \".csv\")\n",
    "# feature_matrix_word2vec_and_hand_craft_features = np.genfromtxt(word2vec_feature_matrix_file, delimiter=',')     "
   ]
  },
  {
   "cell_type": "code",
   "execution_count": 14,
   "metadata": {
    "collapsed": false
   },
   "outputs": [],
   "source": [
    "# %time myKFoldSVM(feature_matrix_word2vec_and_hand_craft_features, y, 5)"
   ]
  },
  {
   "cell_type": "markdown",
   "metadata": {},
   "source": [
    "# Hand craft features"
   ]
  },
  {
   "cell_type": "code",
   "execution_count": 15,
   "metadata": {
    "collapsed": false
   },
   "outputs": [],
   "source": [
    "# feature_matrix_hand_craft_features = feature_matrix_word2vec_and_hand_craft_features[:,100:104]"
   ]
  },
  {
   "cell_type": "code",
   "execution_count": 16,
   "metadata": {
    "collapsed": false
   },
   "outputs": [],
   "source": [
    "# %time myKFoldSVM(feature_matrix_hand_craft_features, y, 5)"
   ]
  },
  {
   "cell_type": "code",
   "execution_count": null,
   "metadata": {
    "collapsed": true
   },
   "outputs": [],
   "source": []
  }
 ],
 "metadata": {
  "kernelspec": {
   "display_name": "Python 2",
   "language": "python",
   "name": "python2"
  },
  "language_info": {
   "codemirror_mode": {
    "name": "ipython",
    "version": 2
   },
   "file_extension": ".py",
   "mimetype": "text/x-python",
   "name": "python",
   "nbconvert_exporter": "python",
   "pygments_lexer": "ipython2",
   "version": "2.7.12"
  }
 },
 "nbformat": 4,
 "nbformat_minor": 0
}
