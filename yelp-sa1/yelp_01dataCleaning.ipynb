{
 "cells": [
  {
   "cell_type": "code",
   "execution_count": 1,
   "metadata": {},
   "outputs": [],
   "source": [
    "#!/usr/bin/env python\n",
    "# -*- coding: utf-8 -*-"
   ]
  },
  {
   "cell_type": "code",
   "execution_count": 2,
   "metadata": {},
   "outputs": [],
   "source": [
    "# import nltk\n",
    "# nltk.download('stopwords')"
   ]
  },
  {
   "cell_type": "markdown",
   "metadata": {},
   "source": [
    "<b>Python package imports</b>"
   ]
  },
  {
   "cell_type": "code",
   "execution_count": 3,
   "metadata": {},
   "outputs": [
    {
     "name": "stdout",
     "output_type": "stream",
     "text": [
      "Pandas version: 0.22.0\n"
     ]
    }
   ],
   "source": [
    "import numpy as np\n",
    "import os\n",
    "import glob\n",
    "import pandas as pd\n",
    "import yelp_utils\n",
    "from yelp_utils import *\n",
    "import yelp_utils\n",
    "print \"Pandas version: \" + pd.__version__"
   ]
  },
  {
   "cell_type": "code",
   "execution_count": 4,
   "metadata": {},
   "outputs": [],
   "source": [
    "pd.options.display.max_columns = 200"
   ]
  },
  {
   "cell_type": "code",
   "execution_count": 5,
   "metadata": {},
   "outputs": [],
   "source": [
    "yelp_utils.make_sure_path_exists(yelp_utils.YELP_DATA_CSV_DIR)"
   ]
  },
  {
   "cell_type": "markdown",
   "metadata": {},
   "source": [
    "# DATA WRANGLING"
   ]
  },
  {
   "cell_type": "markdown",
   "metadata": {},
   "source": [
    "<b>Convert the json files to flattened csv for clarity and ease of access. </b>"
   ]
  },
  {
   "cell_type": "code",
   "execution_count": 7,
   "metadata": {},
   "outputs": [],
   "source": [
    "# http://stackoverflow.com/questions/3207219/how-to-list-all-files-of-a-directory-in-python\n",
    "for json_file in glob.glob(os.path.join(yelp_utils.YELP_DATA_RAW_DIR, \"*.json\")):\n",
    "    csv_file = '{0}.csv'.format(os.path.join(yelp_utils.YELP_DATA_CSV_DIR,os.path.basename(json_file).split('.json')[0]))\n",
    "    if not os.path.isfile(csv_file):\n",
    "        %run json_to_csv_converter.py $json_file $YELP_DATA_CSV_DIR"
   ]
  },
  {
   "cell_type": "markdown",
   "metadata": {},
   "source": [
    "<b>Read the csv to pandas dataframe </b>"
   ]
  },
  {
   "cell_type": "code",
   "execution_count": null,
   "metadata": {},
   "outputs": [],
   "source": [
    "business_csv_file = os.path.join(yelp_utils.YELP_DATA_CSV_DIR, 'yelp_academic_dataset_business.csv')\n",
    "df_business = pd.read_csv(business_csv_file, encoding='utf-8', engine='c', low_memory=False)\n",
    "yelp_utils.getDfInfo(df_business)\n",
    "df_business.head()"
   ]
  },
  {
   "cell_type": "code",
   "execution_count": null,
   "metadata": {},
   "outputs": [],
   "source": [
    "review_csv_file = os.path.join(yelp_utils.YELP_DATA_CSV_DIR, 'yelp_academic_dataset_review.csv')\n",
    "df_review = pd.read_csv(review_csv_file, encoding='utf-8', engine='c') # didnt use low memory option as file is too large\n",
    "getDfInfo(df_review)\n",
    "df_review.head()"
   ]
  },
  {
   "cell_type": "code",
   "execution_count": null,
   "metadata": {},
   "outputs": [],
   "source": [
    "user_csv_file = os.path.join(yelp_utils.YELP_DATA_CSV_DIR, 'yelp_academic_dataset_user.csv')\n",
    "df_user = pd.read_csv(user_csv_file, encoding='utf-8', engine='c', low_memory=False)\n",
    "getDfInfo(df_user)\n",
    "df_user.head()"
   ]
  },
  {
   "cell_type": "markdown",
   "metadata": {},
   "source": [
    "# DATA CLEANING"
   ]
  },
  {
   "cell_type": "markdown",
   "metadata": {},
   "source": [
    "## Remove NAs"
   ]
  },
  {
   "cell_type": "code",
   "execution_count": null,
   "metadata": {},
   "outputs": [],
   "source": [
    "def renameRemoveNACols(df, string):\n",
    "    '''\n",
    "    Function to remove columns from dataframe which contain NA value and\n",
    "    rename columns with string appended at beginning of column name.\n",
    "    Input: \n",
    "        df: Pandas data frame\n",
    "        string: The string that has to be appended at beginning of all column name\n",
    "    Output: Pandas data frame \n",
    "    '''\n",
    "    df = df.dropna(axis='columns', how='any')\n",
    "    new_columns = df.columns.values\n",
    "    new_columns = string + new_columns \n",
    "    df.columns = new_columns\n",
    "    return(df)\n",
    "\n",
    "def removeNACols(df):\n",
    "    '''\n",
    "    Function to remove columns which contain NA value.\n",
    "    Input: \n",
    "        df: Pandas data frame\n",
    "    Output: Pandas data frame     \n",
    "    '''\n",
    "    df = df.dropna(axis='columns', how='any')\n",
    "    return(df)"
   ]
  },
  {
   "cell_type": "code",
   "execution_count": null,
   "metadata": {},
   "outputs": [],
   "source": [
    "df_business = renameRemoveNACols(df_business, 'business_')\n",
    "df_business.rename(columns={'business_business_id': 'business_id'}, inplace=True)\n",
    "df_review = renameRemoveNACols(df_review, 'review_')\n",
    "df_review.rename(columns={'review_review_id': 'review_id', 'review_user_id':'user_id', 'review_business_id' :'business_id'}, \n",
    "                 inplace=True)\n",
    "df_user = renameRemoveNACols(df_user, 'user_')\n",
    "df_user.rename(columns={'user_user_id': 'user_id'}, inplace=True)\n",
    "\n",
    "#                                      left_on='business_id', right_on='review_business_id')"
   ]
  },
  {
   "cell_type": "markdown",
   "metadata": {},
   "source": [
    "## Merge tables"
   ]
  },
  {
   "cell_type": "code",
   "execution_count": null,
   "metadata": {},
   "outputs": [],
   "source": [
    "df_merged_business_review = pd.merge(df_business, df_review, how ='inner', on='business_id')\n",
    "getDfInfo(df_merged_business_review)"
   ]
  },
  {
   "cell_type": "code",
   "execution_count": null,
   "metadata": {
    "scrolled": true
   },
   "outputs": [],
   "source": [
    "df_merged_business_review_user = pd.merge(df_merged_business_review, df_user, how ='inner', on='user_id')\n",
    "#                                           left_index ='review_user_id', right_index='user_id')\n",
    "getDfInfo(df_merged_business_review_user)\n",
    "df_merged_business_review_user.head()"
   ]
  },
  {
   "cell_type": "code",
   "execution_count": null,
   "metadata": {},
   "outputs": [],
   "source": [
    "len(set(df_merged_business_review_user['review_id'])) == df_merged_business_review_user.shape[0]"
   ]
  },
  {
   "cell_type": "markdown",
   "metadata": {},
   "source": [
    "<b>Considering reviews only in US</b>"
   ]
  },
  {
   "cell_type": "code",
   "execution_count": null,
   "metadata": {},
   "outputs": [],
   "source": [
    "# https://answers.yahoo.com/question/index?qid=20070729220301AA6Ct4s\n",
    "# +48.987386 is the northern most latitude \n",
    "# +18.005611 is the southern most latitude \n",
    "# -124.626080 is the west most longitude \n",
    "# -62.361014 is a east most longitude\n",
    "\n",
    "df_merged_business_review_user[['business_latitude', 'business_longitude', 'business_full_address']]\n",
    "condition_latitude = (df_merged_business_review_user.business_latitude < 48.987386) \\\n",
    "                    & (df_merged_business_review_user.business_latitude > 18.005611) \n",
    "condition_longitude = (df_merged_business_review_user.business_longitude > -124.626080) \\\n",
    "                    & (df_merged_business_review_user.business_longitude < -62.361014)\n",
    "df_merged_business_review_user_only_us = df_merged_business_review_user.loc[condition_latitude & condition_longitude]"
   ]
  },
  {
   "cell_type": "code",
   "execution_count": null,
   "metadata": {},
   "outputs": [],
   "source": [
    "print df_merged_business_review_user.shape\n",
    "print df_merged_business_review_user_only_us.shape"
   ]
  },
  {
   "cell_type": "code",
   "execution_count": null,
   "metadata": {},
   "outputs": [],
   "source": [
    "# Write business-review-user file\n",
    "write_filename = os.path.join(yelp_utils.YELP_DATA_CSV_DIR, 'business_review_user.csv')\n",
    "if not os.path.isfile(write_filename):\n",
    "    df_merged_business_review_user_only_us.to_csv(write_filename, encoding='utf-8', engine='c', index=False)\n",
    "else:\n",
    "    df_merged_business_review_user_only_us = pd.read_csv(write_filename, encoding='utf-8', engine='c');\n",
    "    print(\"read file\")"
   ]
  },
  {
   "cell_type": "markdown",
   "metadata": {},
   "source": [
    "## Create a sample dataset"
   ]
  },
  {
   "cell_type": "code",
   "execution_count": null,
   "metadata": {},
   "outputs": [],
   "source": [
    "sample_file = os.path.join(yelp_utils.YELP_DATA_CSV_DIR, 'business_review_user'+ yelp_utils.data_subset +'.csv')\n",
    "df_sample = df_merged_business_review_user_only_us.sample(frac = yelp_utils.data_frac, replace=False, random_state=yelp_utils.SEED_VAL)\n",
    "if not os.path.isfile(sample_file):\n",
    "    df_sample.to_csv(sample_file, encoding='utf-8', engine='c', index=False)\n",
    "df_sample.head()"
   ]
  },
  {
   "cell_type": "code",
   "execution_count": null,
   "metadata": {},
   "outputs": [],
   "source": [
    "%whos"
   ]
  },
  {
   "cell_type": "code",
   "execution_count": null,
   "metadata": {},
   "outputs": [],
   "source": []
  }
 ],
 "metadata": {
  "kernelspec": {
   "display_name": "Python 2",
   "language": "python",
   "name": "python2"
  },
  "language_info": {
   "codemirror_mode": {
    "name": "ipython",
    "version": 2
   },
   "file_extension": ".py",
   "mimetype": "text/x-python",
   "name": "python",
   "nbconvert_exporter": "python",
   "pygments_lexer": "ipython2",
   "version": "2.7.14"
  }
 },
 "nbformat": 4,
 "nbformat_minor": 1
}
